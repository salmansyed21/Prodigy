{
 "cells": [
  {
   "cell_type": "markdown",
   "id": "86e106c5",
   "metadata": {},
   "source": [
    "# TASK_01\n",
    "\n",
    "Create a bar chart to visualize the distribution of a categorical, such as the distribution of ages in a population."
   ]
  },
  {
   "cell_type": "markdown",
   "id": "cb065cae",
   "metadata": {},
   "source": [
    "# Import Libraries"
   ]
  },
  {
   "cell_type": "code",
   "execution_count": 1,
   "id": "349a1b04",
   "metadata": {},
   "outputs": [],
   "source": [
    "import pandas as pd\n",
    "import matplotlib.pyplot as plt\n",
    "from sklearn.model_selection import train_test_split\n",
    "from sklearn.linear_model import LinearRegression\n"
   ]
  },
  {
   "cell_type": "markdown",
   "id": "571bada2",
   "metadata": {},
   "source": [
    "# Reading The Dataset"
   ]
  },
  {
   "cell_type": "code",
   "execution_count": 2,
   "id": "1d495dd8",
   "metadata": {},
   "outputs": [],
   "source": [
    "population=pd.read_excel(\"C:\\Document\\Prodigy excel.xlsx\")"
   ]
  },
  {
   "cell_type": "code",
   "execution_count": 3,
   "id": "c0f35aba",
   "metadata": {},
   "outputs": [
    {
     "data": {
      "text/html": [
       "<div>\n",
       "<style scoped>\n",
       "    .dataframe tbody tr th:only-of-type {\n",
       "        vertical-align: middle;\n",
       "    }\n",
       "\n",
       "    .dataframe tbody tr th {\n",
       "        vertical-align: top;\n",
       "    }\n",
       "\n",
       "    .dataframe thead th {\n",
       "        text-align: right;\n",
       "    }\n",
       "</style>\n",
       "<table border=\"1\" class=\"dataframe\">\n",
       "  <thead>\n",
       "    <tr style=\"text-align: right;\">\n",
       "      <th></th>\n",
       "      <th>Unnamed: 0</th>\n",
       "      <th>Country</th>\n",
       "      <th>Total</th>\n",
       "      <th>65+</th>\n",
       "      <th>25-64 years</th>\n",
       "      <th>15-24 years</th>\n",
       "      <th>5-14 years</th>\n",
       "      <th>0-4 years</th>\n",
       "    </tr>\n",
       "  </thead>\n",
       "  <tbody>\n",
       "    <tr>\n",
       "      <th>0</th>\n",
       "      <td>0</td>\n",
       "      <td>Afghanistan</td>\n",
       "      <td>40099460</td>\n",
       "      <td>964016</td>\n",
       "      <td>12995277</td>\n",
       "      <td>8727160</td>\n",
       "      <td>10922454</td>\n",
       "      <td>6490554</td>\n",
       "    </tr>\n",
       "    <tr>\n",
       "      <th>1</th>\n",
       "      <td>1</td>\n",
       "      <td>Albania</td>\n",
       "      <td>2854710</td>\n",
       "      <td>463442</td>\n",
       "      <td>1527360</td>\n",
       "      <td>399113</td>\n",
       "      <td>323402</td>\n",
       "      <td>141393</td>\n",
       "    </tr>\n",
       "    <tr>\n",
       "      <th>2</th>\n",
       "      <td>2</td>\n",
       "      <td>Algeria</td>\n",
       "      <td>44177964</td>\n",
       "      <td>2731079</td>\n",
       "      <td>21871300</td>\n",
       "      <td>6007614</td>\n",
       "      <td>8697129</td>\n",
       "      <td>4870841</td>\n",
       "    </tr>\n",
       "    <tr>\n",
       "      <th>3</th>\n",
       "      <td>3</td>\n",
       "      <td>American Samoa</td>\n",
       "      <td>45056</td>\n",
       "      <td>3088</td>\n",
       "      <td>22433</td>\n",
       "      <td>7141</td>\n",
       "      <td>8365</td>\n",
       "      <td>4029</td>\n",
       "    </tr>\n",
       "    <tr>\n",
       "      <th>4</th>\n",
       "      <td>4</td>\n",
       "      <td>Andorra</td>\n",
       "      <td>79057</td>\n",
       "      <td>11499</td>\n",
       "      <td>48651</td>\n",
       "      <td>8570</td>\n",
       "      <td>7797</td>\n",
       "      <td>2540</td>\n",
       "    </tr>\n",
       "  </tbody>\n",
       "</table>\n",
       "</div>"
      ],
      "text/plain": [
       "   Unnamed: 0         Country     Total      65+  25-64 years  15-24 years  \\\n",
       "0           0     Afghanistan  40099460   964016     12995277      8727160   \n",
       "1           1         Albania   2854710   463442      1527360       399113   \n",
       "2           2         Algeria  44177964  2731079     21871300      6007614   \n",
       "3           3  American Samoa     45056     3088        22433         7141   \n",
       "4           4         Andorra     79057    11499        48651         8570   \n",
       "\n",
       "   5-14 years  0-4 years  \n",
       "0    10922454    6490554  \n",
       "1      323402     141393  \n",
       "2     8697129    4870841  \n",
       "3        8365       4029  \n",
       "4        7797       2540  "
      ]
     },
     "execution_count": 3,
     "metadata": {},
     "output_type": "execute_result"
    }
   ],
   "source": [
    "population"
   ]
  },
  {
   "cell_type": "code",
   "execution_count": 4,
   "id": "10826f2d",
   "metadata": {},
   "outputs": [
    {
     "data": {
      "text/html": [
       "<div>\n",
       "<style scoped>\n",
       "    .dataframe tbody tr th:only-of-type {\n",
       "        vertical-align: middle;\n",
       "    }\n",
       "\n",
       "    .dataframe tbody tr th {\n",
       "        vertical-align: top;\n",
       "    }\n",
       "\n",
       "    .dataframe thead th {\n",
       "        text-align: right;\n",
       "    }\n",
       "</style>\n",
       "<table border=\"1\" class=\"dataframe\">\n",
       "  <thead>\n",
       "    <tr style=\"text-align: right;\">\n",
       "      <th></th>\n",
       "      <th>Unnamed: 0</th>\n",
       "      <th>Total</th>\n",
       "      <th>65+</th>\n",
       "      <th>25-64 years</th>\n",
       "      <th>15-24 years</th>\n",
       "      <th>5-14 years</th>\n",
       "      <th>0-4 years</th>\n",
       "    </tr>\n",
       "  </thead>\n",
       "  <tbody>\n",
       "    <tr>\n",
       "      <th>count</th>\n",
       "      <td>5.000000</td>\n",
       "      <td>5.000000e+00</td>\n",
       "      <td>5.000000e+00</td>\n",
       "      <td>5.000000e+00</td>\n",
       "      <td>5.000000e+00</td>\n",
       "      <td>5.000000e+00</td>\n",
       "      <td>5.000000e+00</td>\n",
       "    </tr>\n",
       "    <tr>\n",
       "      <th>mean</th>\n",
       "      <td>2.000000</td>\n",
       "      <td>1.745125e+07</td>\n",
       "      <td>8.346248e+05</td>\n",
       "      <td>7.293004e+06</td>\n",
       "      <td>3.029920e+06</td>\n",
       "      <td>3.991829e+06</td>\n",
       "      <td>2.301871e+06</td>\n",
       "    </tr>\n",
       "    <tr>\n",
       "      <th>std</th>\n",
       "      <td>1.581139</td>\n",
       "      <td>2.261132e+07</td>\n",
       "      <td>1.131376e+06</td>\n",
       "      <td>9.793201e+06</td>\n",
       "      <td>4.077748e+06</td>\n",
       "      <td>5.370551e+06</td>\n",
       "      <td>3.137648e+06</td>\n",
       "    </tr>\n",
       "    <tr>\n",
       "      <th>min</th>\n",
       "      <td>0.000000</td>\n",
       "      <td>4.505600e+04</td>\n",
       "      <td>3.088000e+03</td>\n",
       "      <td>2.243300e+04</td>\n",
       "      <td>7.141000e+03</td>\n",
       "      <td>7.797000e+03</td>\n",
       "      <td>2.540000e+03</td>\n",
       "    </tr>\n",
       "    <tr>\n",
       "      <th>25%</th>\n",
       "      <td>1.000000</td>\n",
       "      <td>7.905700e+04</td>\n",
       "      <td>1.149900e+04</td>\n",
       "      <td>4.865100e+04</td>\n",
       "      <td>8.570000e+03</td>\n",
       "      <td>8.365000e+03</td>\n",
       "      <td>4.029000e+03</td>\n",
       "    </tr>\n",
       "    <tr>\n",
       "      <th>50%</th>\n",
       "      <td>2.000000</td>\n",
       "      <td>2.854710e+06</td>\n",
       "      <td>4.634420e+05</td>\n",
       "      <td>1.527360e+06</td>\n",
       "      <td>3.991130e+05</td>\n",
       "      <td>3.234020e+05</td>\n",
       "      <td>1.413930e+05</td>\n",
       "    </tr>\n",
       "    <tr>\n",
       "      <th>75%</th>\n",
       "      <td>3.000000</td>\n",
       "      <td>4.009946e+07</td>\n",
       "      <td>9.640160e+05</td>\n",
       "      <td>1.299528e+07</td>\n",
       "      <td>6.007614e+06</td>\n",
       "      <td>8.697129e+06</td>\n",
       "      <td>4.870841e+06</td>\n",
       "    </tr>\n",
       "    <tr>\n",
       "      <th>max</th>\n",
       "      <td>4.000000</td>\n",
       "      <td>4.417796e+07</td>\n",
       "      <td>2.731079e+06</td>\n",
       "      <td>2.187130e+07</td>\n",
       "      <td>8.727160e+06</td>\n",
       "      <td>1.092245e+07</td>\n",
       "      <td>6.490554e+06</td>\n",
       "    </tr>\n",
       "  </tbody>\n",
       "</table>\n",
       "</div>"
      ],
      "text/plain": [
       "       Unnamed: 0         Total           65+   25-64 years   15-24 years  \\\n",
       "count    5.000000  5.000000e+00  5.000000e+00  5.000000e+00  5.000000e+00   \n",
       "mean     2.000000  1.745125e+07  8.346248e+05  7.293004e+06  3.029920e+06   \n",
       "std      1.581139  2.261132e+07  1.131376e+06  9.793201e+06  4.077748e+06   \n",
       "min      0.000000  4.505600e+04  3.088000e+03  2.243300e+04  7.141000e+03   \n",
       "25%      1.000000  7.905700e+04  1.149900e+04  4.865100e+04  8.570000e+03   \n",
       "50%      2.000000  2.854710e+06  4.634420e+05  1.527360e+06  3.991130e+05   \n",
       "75%      3.000000  4.009946e+07  9.640160e+05  1.299528e+07  6.007614e+06   \n",
       "max      4.000000  4.417796e+07  2.731079e+06  2.187130e+07  8.727160e+06   \n",
       "\n",
       "         5-14 years     0-4 years  \n",
       "count  5.000000e+00  5.000000e+00  \n",
       "mean   3.991829e+06  2.301871e+06  \n",
       "std    5.370551e+06  3.137648e+06  \n",
       "min    7.797000e+03  2.540000e+03  \n",
       "25%    8.365000e+03  4.029000e+03  \n",
       "50%    3.234020e+05  1.413930e+05  \n",
       "75%    8.697129e+06  4.870841e+06  \n",
       "max    1.092245e+07  6.490554e+06  "
      ]
     },
     "execution_count": 4,
     "metadata": {},
     "output_type": "execute_result"
    }
   ],
   "source": [
    "population.describe()"
   ]
  },
  {
   "cell_type": "code",
   "execution_count": 5,
   "id": "37408349",
   "metadata": {},
   "outputs": [
    {
     "name": "stdout",
     "output_type": "stream",
     "text": [
      "<class 'pandas.core.frame.DataFrame'>\n",
      "RangeIndex: 5 entries, 0 to 4\n",
      "Data columns (total 8 columns):\n",
      " #   Column       Non-Null Count  Dtype \n",
      "---  ------       --------------  ----- \n",
      " 0   Unnamed: 0   5 non-null      int64 \n",
      " 1   Country      5 non-null      object\n",
      " 2   Total        5 non-null      int64 \n",
      " 3   65+          5 non-null      int64 \n",
      " 4   25-64 years  5 non-null      int64 \n",
      " 5   15-24 years  5 non-null      int64 \n",
      " 6   5-14 years   5 non-null      int64 \n",
      " 7   0-4 years    5 non-null      int64 \n",
      "dtypes: int64(7), object(1)\n",
      "memory usage: 448.0+ bytes\n"
     ]
    }
   ],
   "source": [
    "population.info()"
   ]
  },
  {
   "cell_type": "code",
   "execution_count": 6,
   "id": "8dd7f494",
   "metadata": {},
   "outputs": [
    {
     "data": {
      "text/plain": [
       "<bound method DataFrame.value_counts of    Unnamed: 0         Country     Total      65+  25-64 years  15-24 years  \\\n",
       "0           0     Afghanistan  40099460   964016     12995277      8727160   \n",
       "1           1         Albania   2854710   463442      1527360       399113   \n",
       "2           2         Algeria  44177964  2731079     21871300      6007614   \n",
       "3           3  American Samoa     45056     3088        22433         7141   \n",
       "4           4         Andorra     79057    11499        48651         8570   \n",
       "\n",
       "   5-14 years  0-4 years  \n",
       "0    10922454    6490554  \n",
       "1      323402     141393  \n",
       "2     8697129    4870841  \n",
       "3        8365       4029  \n",
       "4        7797       2540  >"
      ]
     },
     "execution_count": 6,
     "metadata": {},
     "output_type": "execute_result"
    }
   ],
   "source": [
    "population.value_counts"
   ]
  },
  {
   "cell_type": "code",
   "execution_count": 7,
   "id": "818451d8",
   "metadata": {},
   "outputs": [
    {
     "data": {
      "text/html": [
       "<div>\n",
       "<style scoped>\n",
       "    .dataframe tbody tr th:only-of-type {\n",
       "        vertical-align: middle;\n",
       "    }\n",
       "\n",
       "    .dataframe tbody tr th {\n",
       "        vertical-align: top;\n",
       "    }\n",
       "\n",
       "    .dataframe thead th {\n",
       "        text-align: right;\n",
       "    }\n",
       "</style>\n",
       "<table border=\"1\" class=\"dataframe\">\n",
       "  <thead>\n",
       "    <tr style=\"text-align: right;\">\n",
       "      <th></th>\n",
       "      <th>Unnamed: 0</th>\n",
       "      <th>Country</th>\n",
       "      <th>Total</th>\n",
       "      <th>65+</th>\n",
       "      <th>25-64 years</th>\n",
       "      <th>15-24 years</th>\n",
       "      <th>5-14 years</th>\n",
       "      <th>0-4 years</th>\n",
       "    </tr>\n",
       "  </thead>\n",
       "  <tbody>\n",
       "    <tr>\n",
       "      <th>0</th>\n",
       "      <td>False</td>\n",
       "      <td>False</td>\n",
       "      <td>False</td>\n",
       "      <td>False</td>\n",
       "      <td>False</td>\n",
       "      <td>False</td>\n",
       "      <td>False</td>\n",
       "      <td>False</td>\n",
       "    </tr>\n",
       "    <tr>\n",
       "      <th>1</th>\n",
       "      <td>False</td>\n",
       "      <td>False</td>\n",
       "      <td>False</td>\n",
       "      <td>False</td>\n",
       "      <td>False</td>\n",
       "      <td>False</td>\n",
       "      <td>False</td>\n",
       "      <td>False</td>\n",
       "    </tr>\n",
       "    <tr>\n",
       "      <th>2</th>\n",
       "      <td>False</td>\n",
       "      <td>False</td>\n",
       "      <td>False</td>\n",
       "      <td>False</td>\n",
       "      <td>False</td>\n",
       "      <td>False</td>\n",
       "      <td>False</td>\n",
       "      <td>False</td>\n",
       "    </tr>\n",
       "    <tr>\n",
       "      <th>3</th>\n",
       "      <td>False</td>\n",
       "      <td>False</td>\n",
       "      <td>False</td>\n",
       "      <td>False</td>\n",
       "      <td>False</td>\n",
       "      <td>False</td>\n",
       "      <td>False</td>\n",
       "      <td>False</td>\n",
       "    </tr>\n",
       "    <tr>\n",
       "      <th>4</th>\n",
       "      <td>False</td>\n",
       "      <td>False</td>\n",
       "      <td>False</td>\n",
       "      <td>False</td>\n",
       "      <td>False</td>\n",
       "      <td>False</td>\n",
       "      <td>False</td>\n",
       "      <td>False</td>\n",
       "    </tr>\n",
       "  </tbody>\n",
       "</table>\n",
       "</div>"
      ],
      "text/plain": [
       "   Unnamed: 0  Country  Total    65+  25-64 years  15-24 years  5-14 years  \\\n",
       "0       False    False  False  False        False        False       False   \n",
       "1       False    False  False  False        False        False       False   \n",
       "2       False    False  False  False        False        False       False   \n",
       "3       False    False  False  False        False        False       False   \n",
       "4       False    False  False  False        False        False       False   \n",
       "\n",
       "   0-4 years  \n",
       "0      False  \n",
       "1      False  \n",
       "2      False  \n",
       "3      False  \n",
       "4      False  "
      ]
     },
     "execution_count": 7,
     "metadata": {},
     "output_type": "execute_result"
    }
   ],
   "source": [
    "population.isnull()"
   ]
  },
  {
   "cell_type": "code",
   "execution_count": 8,
   "id": "cab29cb5",
   "metadata": {},
   "outputs": [
    {
     "data": {
      "text/plain": [
       "Unnamed: 0     0\n",
       "Country        0\n",
       "Total          0\n",
       "65+            0\n",
       "25-64 years    0\n",
       "15-24 years    0\n",
       "5-14 years     0\n",
       "0-4 years      0\n",
       "dtype: int64"
      ]
     },
     "execution_count": 8,
     "metadata": {},
     "output_type": "execute_result"
    }
   ],
   "source": [
    "population.isnull().sum()"
   ]
  },
  {
   "cell_type": "markdown",
   "id": "d4987bf6",
   "metadata": {},
   "source": [
    "# Visualizing The Data"
   ]
  },
  {
   "cell_type": "code",
   "execution_count": 9,
   "id": "20d28a00",
   "metadata": {},
   "outputs": [
    {
     "data": {
      "text/plain": [
       "<BarContainer object of 5 artists>"
      ]
     },
     "execution_count": 9,
     "metadata": {},
     "output_type": "execute_result"
    },
    {
     "data": {
      "image/png": "[encoded data removed]",
      "text/plain": [
       "<Figure size 432x288 with 1 Axes>"
      ]
     },
     "metadata": {
      "needs_background": "light"
     },
     "output_type": "display_data"
    }
   ],
   "source": [
    "x=population['Country']\n",
    "y=population['0-4 years']\n",
    "plt.barh(x,y)"
   ]
  },
  {
   "cell_type": "code",
   "execution_count": 10,
   "id": "4509b7a2",
   "metadata": {},
   "outputs": [
    {
     "data": {
      "text/plain": [
       "<BarContainer object of 5 artists>"
      ]
     },
     "execution_count": 10,
     "metadata": {},
     "output_type": "execute_result"
    },
    {
     "data": {
      "image/png": "[encoded data removed]",
      "text/plain": [
       "<Figure size 432x288 with 1 Axes>"
      ]
     },
     "metadata": {
      "needs_background": "light"
     },
     "output_type": "display_data"
    }
   ],
   "source": [
    "x=population['Country']\n",
    "y=population['5-14 years']\n",
    "plt.barh(x,y)"
   ]
  },
  {
   "cell_type": "code",
   "execution_count": 11,
   "id": "b27542f0",
   "metadata": {},
   "outputs": [
    {
     "data": {
      "text/plain": [
       "<BarContainer object of 5 artists>"
      ]
     },
     "execution_count": 11,
     "metadata": {},
     "output_type": "execute_result"
    },
    {
     "data": {
      "image/png": "[encoded data removed]",
      "text/plain": [
       "<Figure size 432x288 with 1 Axes>"
      ]
     },
     "metadata": {
      "needs_background": "light"
     },
     "output_type": "display_data"
    }
   ],
   "source": [
    "x=population['Country']\n",
    "y=population['15-24 years']\n",
    "plt.barh(x,y)"
   ]
  },
  {
   "cell_type": "code",
   "execution_count": 12,
   "id": "1daabb9d",
   "metadata": {},
   "outputs": [
    {
     "data": {
      "text/plain": [
       "<BarContainer object of 5 artists>"
      ]
     },
     "execution_count": 12,
     "metadata": {},
     "output_type": "execute_result"
    },
    {
     "data": {
      "image/png": "[encoded data removed]",
      "text/plain": [
       "<Figure size 432x288 with 1 Axes>"
      ]
     },
     "metadata": {
      "needs_background": "light"
     },
     "output_type": "display_data"
    }
   ],
   "source": [
    "x=population['Country']\n",
    "y=population['25-64 years']\n",
    "plt.barh(x,y)"
   ]
  },
  {
   "cell_type": "code",
   "execution_count": 13,
   "id": "f54566e3",
   "metadata": {},
   "outputs": [
    {
     "data": {
      "text/plain": [
       "<BarContainer object of 5 artists>"
      ]
     },
     "execution_count": 13,
     "metadata": {},
     "output_type": "execute_result"
    },
    {
     "data": {
      "image/png": "[encoded data removed]",
      "text/plain": [
       "<Figure size 432x288 with 1 Axes>"
      ]
     },
     "metadata": {
      "needs_background": "light"
     },
     "output_type": "display_data"
    }
   ],
   "source": [
    "x=population['Country']\n",
    "y=population['65+']\n",
    "plt.barh(x,y)"
   ]
  }
 ],
 "metadata": {
  "kernelspec": {
   "display_name": "Python 3 (ipykernel)",
   "language": "python",
   "name": "python3"
  },
  "language_info": {
   "codemirror_mode": {
    "name": "ipython",
    "version": 3
   },
   "file_extension": ".py",
   "mimetype": "text/x-python",
   "name": "python",
   "nbconvert_exporter": "python",
   "pygments_lexer": "ipython3",
   "version": "3.9.12"
  }
 },
 "nbformat": 4,
 "nbformat_minor": 5
}
